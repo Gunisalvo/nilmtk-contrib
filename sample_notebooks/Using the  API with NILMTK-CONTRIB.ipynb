{
 "cells": [
  {
   "cell_type": "code",
   "execution_count": 1,
   "metadata": {},
   "outputs": [],
   "source": [
    "import warnings\n",
    "warnings.filterwarnings(\"ignore\")"
   ]
  },
  {
   "cell_type": "code",
   "execution_count": 2,
   "metadata": {},
   "outputs": [],
   "source": [
    "from nilmtk.api import API"
   ]
  },
  {
   "cell_type": "code",
   "execution_count": 3,
   "metadata": {},
   "outputs": [],
   "source": [
    "from nilmtk.disaggregate import Mean"
   ]
  },
  {
   "cell_type": "code",
   "execution_count": 4,
   "metadata": {},
   "outputs": [],
   "source": [
    "from nilmtk_contrib.disaggregate import DAE, Seq2Point, Seq2Seq, RNN, WindowGRU"
   ]
  },
  {
   "cell_type": "code",
   "execution_count": 5,
   "metadata": {},
   "outputs": [],
   "source": [
    "ukdale = {\n",
    "  'power': {\n",
    "    'mains': ['apparent', 'active'],\n",
    "    'appliance': ['apparent', 'active']\n",
    "  },\n",
    "  'sample_rate': 60,\n",
    "\n",
    "  'appliances': ['fridge', 'microwave'],\n",
    "  'methods': {\n",
    "    \n",
    "      'WindowGRU':WindowGRU({'n_epochs':50, 'batch_size':32}),\n",
    "      'RNN':RNN({'n_epochs':50, 'batch_size':32}),\n",
    "      'DAE':DAE({'n_epochs':50, 'batch_size':32}),\n",
    "      'Seq2Point':Seq2Point({'n_epochs':50, 'batch_size':32}),\n",
    "      'Seq2Seq':Seq2Seq({'n_epochs':50, 'batch_size':32}),\n",
    "\n",
    "      'Mean': Mean({}),\n",
    "          \n",
    "  },\n",
    "    'train': {    \n",
    "        'datasets': {\n",
    "            'Dataport': {\n",
    "                'path': '/app/nilmtk-contrib/data/ukdale.h5',\n",
    "\t\t\t\t'buildings': {\n",
    "    \t\t\t\t1: {\n",
    "    \t\t\t\t\t'start_time': '2014-04-04',\n",
    "    \t\t\t\t\t'end_time': '2014-04-05'\n",
    "    \t\t\t\t},\n",
    "    \t\t\t}\t\t                \n",
    "    \t\t}\n",
    "    \t}\n",
    "\t},\n",
    "\t'test': {\n",
    "    \t'datasets': {\n",
    "    \t\t'Datport': {\n",
    "    \t\t\t'path': '/app/nilmtk-contrib/data/ukdale.h5',\n",
    "    \t\t\t'buildings': {\n",
    "        \t\t\t1: {\n",
    "    \t\t\t\t\t'start_time': '2014-04-05',\n",
    "    \t\t\t\t\t'end_time': '2014-04-06'\n",
    "    \t\t\t\t},\n",
    "    \t\t\t}\n",
    "    \t}\n",
    "    },\n",
    "        'metrics':['mae']\n",
    "    }\n",
    "}"
   ]
  },
  {
   "cell_type": "code",
   "execution_count": 6,
   "metadata": {},
   "outputs": [
    {
     "name": "stdout",
     "output_type": "stream",
     "text": [
      "Joint Testing for all algorithms\n",
      "Loading data for  Datport  dataset\n",
      "Dropping missing values\n",
      "Generating predictions for : WindowGRU\n",
      "\u001b[1m90/90\u001b[0m \u001b[32m━━━━━━━━━━━━━━━━━━━━\u001b[0m\u001b[37m\u001b[0m \u001b[1m2s\u001b[0m 18ms/step\n",
      "\u001b[1m90/90\u001b[0m \u001b[32m━━━━━━━━━━━━━━━━━━━━\u001b[0m\u001b[37m\u001b[0m \u001b[1m2s\u001b[0m 18ms/step\n",
      "Generating predictions for : RNN\n",
      "\u001b[1m90/90\u001b[0m \u001b[32m━━━━━━━━━━━━━━━━━━━━\u001b[0m\u001b[37m\u001b[0m \u001b[1m1s\u001b[0m 14ms/step\n",
      "\u001b[1m90/90\u001b[0m \u001b[32m━━━━━━━━━━━━━━━━━━━━\u001b[0m\u001b[37m\u001b[0m \u001b[1m1s\u001b[0m 14ms/step\n",
      "Generating predictions for : DAE\n",
      "\u001b[1m1/1\u001b[0m \u001b[32m━━━━━━━━━━━━━━━━━━━━\u001b[0m\u001b[37m\u001b[0m \u001b[1m0s\u001b[0m 33ms/step\n",
      "\u001b[1m1/1\u001b[0m \u001b[32m━━━━━━━━━━━━━━━━━━━━\u001b[0m\u001b[37m\u001b[0m \u001b[1m0s\u001b[0m 35ms/step\n",
      "Generating predictions for : Seq2Point\n",
      "\u001b[1m90/90\u001b[0m \u001b[32m━━━━━━━━━━━━━━━━━━━━\u001b[0m\u001b[37m\u001b[0m \u001b[1m0s\u001b[0m 3ms/step\n",
      "\u001b[1m90/90\u001b[0m \u001b[32m━━━━━━━━━━━━━━━━━━━━\u001b[0m\u001b[37m\u001b[0m \u001b[1m0s\u001b[0m 3ms/step\n",
      "Generating predictions for : Seq2Seq\n",
      "\u001b[1m87/87\u001b[0m \u001b[32m━━━━━━━━━━━━━━━━━━━━\u001b[0m\u001b[37m\u001b[0m \u001b[1m0s\u001b[0m 2ms/step\n",
      "\u001b[1m87/87\u001b[0m \u001b[32m━━━━━━━━━━━━━━━━━━━━\u001b[0m\u001b[37m\u001b[0m \u001b[1m0s\u001b[0m 2ms/step\n",
      "Generating predictions for : Mean\n",
      "............  mae  ..............\n",
      "           WindowGRU        RNN        DAE  Seq2Point    Seq2Seq       Mean\n",
      "fridge     45.297310  42.511894  45.706142  41.898579  44.951515  45.508305\n",
      "microwave  16.561968   9.882814  11.505477   7.991779   8.713560  15.875222\n"
     ]
    }
   ],
   "source": [
    "api_res = API(ukdale)"
   ]
  },
  {
   "cell_type": "code",
   "execution_count": 7,
   "metadata": {},
   "outputs": [
    {
     "data": {
      "text/plain": [
       "[           WindowGRU        RNN        DAE  Seq2Point    Seq2Seq       Mean\n",
       " fridge     45.297310  42.511894  45.706142  41.898579  44.951515  45.508305\n",
       " microwave  16.561968   9.882814  11.505477   7.991779   8.713560  15.875222]"
      ]
     },
     "execution_count": 7,
     "metadata": {},
     "output_type": "execute_result"
    }
   ],
   "source": [
    "api_res.errors"
   ]
  },
  {
   "cell_type": "code",
   "execution_count": 8,
   "metadata": {},
   "outputs": [
    {
     "data": {
      "text/plain": [
       "['Datport_1_mae']"
      ]
     },
     "execution_count": 8,
     "metadata": {},
     "output_type": "execute_result"
    }
   ],
   "source": [
    "api_res.errors_keys"
   ]
  },
  {
   "cell_type": "code",
   "execution_count": null,
   "metadata": {},
   "outputs": [],
   "source": []
  },
  {
   "cell_type": "code",
   "execution_count": null,
   "metadata": {},
   "outputs": [],
   "source": []
  },
  {
   "cell_type": "code",
   "execution_count": null,
   "metadata": {},
   "outputs": [],
   "source": []
  },
  {
   "cell_type": "code",
   "execution_count": null,
   "metadata": {},
   "outputs": [],
   "source": []
  },
  {
   "cell_type": "code",
   "execution_count": null,
   "metadata": {},
   "outputs": [],
   "source": []
  }
 ],
 "metadata": {
  "kernelspec": {
   "display_name": "Python 3 (ipykernel)",
   "language": "python",
   "name": "python3"
  },
  "language_info": {
   "codemirror_mode": {
    "name": "ipython",
    "version": 3
   },
   "file_extension": ".py",
   "mimetype": "text/x-python",
   "name": "python",
   "nbconvert_exporter": "python",
   "pygments_lexer": "ipython3",
   "version": "3.9.21"
  }
 },
 "nbformat": 4,
 "nbformat_minor": 4
}
